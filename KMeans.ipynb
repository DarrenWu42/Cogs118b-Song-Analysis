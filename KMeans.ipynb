{
  "nbformat": 4,
  "nbformat_minor": 5,
  "metadata": {
    "kernelspec": {
      "display_name": "Python 3",
      "language": "python",
      "name": "python3"
    },
    "language_info": {
      "codemirror_mode": {
        "name": "ipython",
        "version": 3
      },
      "file_extension": ".py",
      "mimetype": "text/x-python",
      "name": "python",
      "nbconvert_exporter": "python",
      "pygments_lexer": "ipython3",
      "version": "3.7.1"
    },
    "colab": {
      "name": "KMeans.ipynb",
      "provenance": [],
      "collapsed_sections": []
    }
  },
  "cells": [
    {
      "cell_type": "code",
      "metadata": {
        "id": "younger-strength"
      },
      "source": [
        "# import packages\n",
        "import pandas as pd\n",
        "import matplotlib.pyplot as plt\n",
        "import numpy as np\n",
        "import matplotlib\n",
        "import random as rd\n",
        "%matplotlib inline"
      ],
      "id": "younger-strength",
      "execution_count": 56,
      "outputs": []
    },
    {
      "cell_type": "code",
      "metadata": {
        "id": "stone-playlist"
      },
      "source": [
        "data = pd.read_csv('data_prepared.csv', encoding='cp1252')\n",
        "original_size = len(data)\n",
        "\n",
        "data = data.replace(',','', regex=True)"
      ],
      "id": "stone-playlist",
      "execution_count": 100,
      "outputs": []
    },
    {
      "cell_type": "code",
      "metadata": {
        "id": "union-armenia",
        "colab": {
          "base_uri": "https://localhost:8080/",
          "height": 293
        },
        "outputId": "ca5d587e-8ce5-47e7-c72b-d78c02405006"
      },
      "source": [
        "data.describe()"
      ],
      "id": "union-armenia",
      "execution_count": 101,
      "outputs": [
        {
          "output_type": "execute_result",
          "data": {
            "text/html": [
              "<div>\n",
              "<style scoped>\n",
              "    .dataframe tbody tr th:only-of-type {\n",
              "        vertical-align: middle;\n",
              "    }\n",
              "\n",
              "    .dataframe tbody tr th {\n",
              "        vertical-align: top;\n",
              "    }\n",
              "\n",
              "    .dataframe thead th {\n",
              "        text-align: right;\n",
              "    }\n",
              "</style>\n",
              "<table border=\"1\" class=\"dataframe\">\n",
              "  <thead>\n",
              "    <tr style=\"text-align: right;\">\n",
              "      <th></th>\n",
              "      <th>Year</th>\n",
              "      <th>Beats Per Minute (BPM)</th>\n",
              "      <th>Energy</th>\n",
              "      <th>Danceability</th>\n",
              "      <th>Loudness (dB)</th>\n",
              "      <th>Liveness</th>\n",
              "      <th>Valence</th>\n",
              "      <th>Acousticness</th>\n",
              "      <th>Speechiness</th>\n",
              "      <th>Popularity</th>\n",
              "    </tr>\n",
              "  </thead>\n",
              "  <tbody>\n",
              "    <tr>\n",
              "      <th>count</th>\n",
              "      <td>1881.000000</td>\n",
              "      <td>1881.000000</td>\n",
              "      <td>1881.000000</td>\n",
              "      <td>1881.000000</td>\n",
              "      <td>1881.000000</td>\n",
              "      <td>1881.000000</td>\n",
              "      <td>1881.000000</td>\n",
              "      <td>1881.000000</td>\n",
              "      <td>1881.000000</td>\n",
              "      <td>1881.000000</td>\n",
              "    </tr>\n",
              "    <tr>\n",
              "      <th>mean</th>\n",
              "      <td>1992.675704</td>\n",
              "      <td>120.284423</td>\n",
              "      <td>59.590643</td>\n",
              "      <td>52.934078</td>\n",
              "      <td>-9.011164</td>\n",
              "      <td>18.830941</td>\n",
              "      <td>49.458267</td>\n",
              "      <td>28.889952</td>\n",
              "      <td>4.884636</td>\n",
              "      <td>59.569378</td>\n",
              "    </tr>\n",
              "    <tr>\n",
              "      <th>std</th>\n",
              "      <td>16.094372</td>\n",
              "      <td>27.956300</td>\n",
              "      <td>22.214127</td>\n",
              "      <td>15.139244</td>\n",
              "      <td>3.632944</td>\n",
              "      <td>16.497006</td>\n",
              "      <td>24.863703</td>\n",
              "      <td>28.966417</td>\n",
              "      <td>4.188508</td>\n",
              "      <td>14.283028</td>\n",
              "    </tr>\n",
              "    <tr>\n",
              "      <th>min</th>\n",
              "      <td>1956.000000</td>\n",
              "      <td>37.000000</td>\n",
              "      <td>3.000000</td>\n",
              "      <td>10.000000</td>\n",
              "      <td>-27.000000</td>\n",
              "      <td>2.000000</td>\n",
              "      <td>3.000000</td>\n",
              "      <td>0.000000</td>\n",
              "      <td>2.000000</td>\n",
              "      <td>11.000000</td>\n",
              "    </tr>\n",
              "    <tr>\n",
              "      <th>25%</th>\n",
              "      <td>1979.000000</td>\n",
              "      <td>99.000000</td>\n",
              "      <td>42.000000</td>\n",
              "      <td>43.000000</td>\n",
              "      <td>-11.000000</td>\n",
              "      <td>9.000000</td>\n",
              "      <td>29.000000</td>\n",
              "      <td>4.000000</td>\n",
              "      <td>3.000000</td>\n",
              "      <td>50.000000</td>\n",
              "    </tr>\n",
              "    <tr>\n",
              "      <th>50%</th>\n",
              "      <td>1993.000000</td>\n",
              "      <td>119.000000</td>\n",
              "      <td>61.000000</td>\n",
              "      <td>53.000000</td>\n",
              "      <td>-8.000000</td>\n",
              "      <td>12.000000</td>\n",
              "      <td>47.000000</td>\n",
              "      <td>18.000000</td>\n",
              "      <td>4.000000</td>\n",
              "      <td>62.000000</td>\n",
              "    </tr>\n",
              "    <tr>\n",
              "      <th>75%</th>\n",
              "      <td>2007.000000</td>\n",
              "      <td>136.000000</td>\n",
              "      <td>78.000000</td>\n",
              "      <td>64.000000</td>\n",
              "      <td>-6.000000</td>\n",
              "      <td>22.000000</td>\n",
              "      <td>70.000000</td>\n",
              "      <td>50.000000</td>\n",
              "      <td>5.000000</td>\n",
              "      <td>71.000000</td>\n",
              "    </tr>\n",
              "    <tr>\n",
              "      <th>max</th>\n",
              "      <td>2019.000000</td>\n",
              "      <td>206.000000</td>\n",
              "      <td>100.000000</td>\n",
              "      <td>95.000000</td>\n",
              "      <td>-2.000000</td>\n",
              "      <td>99.000000</td>\n",
              "      <td>99.000000</td>\n",
              "      <td>99.000000</td>\n",
              "      <td>55.000000</td>\n",
              "      <td>100.000000</td>\n",
              "    </tr>\n",
              "  </tbody>\n",
              "</table>\n",
              "</div>"
            ],
            "text/plain": [
              "              Year  Beats Per Minute (BPM)  ...  Speechiness   Popularity\n",
              "count  1881.000000             1881.000000  ...  1881.000000  1881.000000\n",
              "mean   1992.675704              120.284423  ...     4.884636    59.569378\n",
              "std      16.094372               27.956300  ...     4.188508    14.283028\n",
              "min    1956.000000               37.000000  ...     2.000000    11.000000\n",
              "25%    1979.000000               99.000000  ...     3.000000    50.000000\n",
              "50%    1993.000000              119.000000  ...     4.000000    62.000000\n",
              "75%    2007.000000              136.000000  ...     5.000000    71.000000\n",
              "max    2019.000000              206.000000  ...    55.000000   100.000000\n",
              "\n",
              "[8 rows x 10 columns]"
            ]
          },
          "metadata": {
            "tags": []
          },
          "execution_count": 101
        }
      ]
    },
    {
      "cell_type": "code",
      "metadata": {
        "id": "XW9zLkVKaCpx",
        "colab": {
          "base_uri": "https://localhost:8080/"
        },
        "outputId": "38d05543-66bf-4724-f648-5f72c98a295c"
      },
      "source": [
        "#taking all features after Year to run K means on\n",
        "X = data.iloc[:, 4:9].values\n",
        "X = X.astype(float)"
      ],
      "id": "XW9zLkVKaCpx",
      "execution_count": 132,
      "outputs": [
        {
          "output_type": "execute_result",
          "data": {
            "text/plain": [
              "array([[157.,  30.,  53., -14.,  11.],\n",
              "       [135.,  79.,  50., -11.,  17.],\n",
              "       [168.,  69.,  66.,  -9.,   7.],\n",
              "       ...,\n",
              "       [175.,  76.,  36.,  -8.,  76.],\n",
              "       [168.,  80.,  53.,  -9.,  31.],\n",
              "       [133.,  50.,  49., -10.,  16.]])"
            ]
          },
          "metadata": {
            "tags": []
          },
          "execution_count": 132
        }
      ]
    },
    {
      "cell_type": "code",
      "metadata": {
        "id": "wz0AZ6YMatmr"
      },
      "source": [
        "rows=X.shape[0] \n",
        "features=X.shape[1] \n",
        "\n",
        "#How to know how many iterations we will need?\n",
        "n_iter=100"
      ],
      "id": "wz0AZ6YMatmr",
      "execution_count": 133,
      "outputs": []
    },
    {
      "cell_type": "code",
      "metadata": {
        "id": "Zw-6Ozm6bOSf"
      },
      "source": [
        "K=20 # number of clusters\n",
        "\n",
        "Centroids=np.zeros((features, K)) \n",
        "\n",
        "# Choosing random cluster centers and storing them into Centroids\n",
        "for i in range(features):\n",
        "  for j in range(K):\n",
        "    rand=rd.randint(0,rows-1)\n",
        "    Centroids[i][j]=X[rand][i]\n",
        "\n",
        "for i in range(n_iter):\n",
        "\n",
        "  # Calculate Euclidian distance for from each point to each centroid\n",
        "  Output={}\n",
        "  EuclidianDistance=np.array([]).reshape(m,0)\n",
        "\n",
        "  for k in range(K):\n",
        "    tempDist=np.sum((X-Centroids[:,k])**2,axis=1)\n",
        "    EuclidianDistance=np.c_[EuclidianDistance,tempDist]\n",
        "  C=np.argmin(EuclidianDistance,axis=1)+1\n",
        "\n",
        "  # Regroup the data points based on the cluster index C and store in \n",
        "  # the Output dictionary and also compute the mean of separated clusters \n",
        "  # and assign it as new centroids\n",
        "  Y={}\n",
        "  for k in range(K):\n",
        "      Y[k+1]=np.array([]).reshape(features,0)\n",
        "  for i in range(rows):\n",
        "      Y[C[i]]=np.c_[Y[C[i]],X[i]]\n",
        "      \n",
        "  for k in range(K):\n",
        "      Y[k+1]=Y[k+1].T\n",
        "      \n",
        "  for k in range(K):\n",
        "      Centroids[:,k]=np.mean(Y[k+1],axis=0)\n",
        "  Output = Y"
      ],
      "id": "Zw-6Ozm6bOSf",
      "execution_count": 134,
      "outputs": []
    },
    {
      "cell_type": "code",
      "metadata": {
        "id": "9zjQp6e0eiw1",
        "colab": {
          "base_uri": "https://localhost:8080/"
        },
        "outputId": "912e83c1-231d-4ce0-dcb4-8a2c3ba5c44e"
      },
      "source": [
        "cluster_values = sorted([len(Output[i+1]) for i in range(K)])\n",
        "print(cluster_values)\n",
        "\n",
        "total_entries = sum(cluster_values)\n",
        "print(total_entries)"
      ],
      "id": "9zjQp6e0eiw1",
      "execution_count": 135,
      "outputs": [
        {
          "output_type": "stream",
          "text": [
            "[49, 54, 56, 64, 72, 75, 78, 79, 88, 91, 91, 93, 97, 116, 117, 120, 123, 129, 131, 158]\n",
            "1881\n"
          ],
          "name": "stdout"
        }
      ]
    }
  ]
}