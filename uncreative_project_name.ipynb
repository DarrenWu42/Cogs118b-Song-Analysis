{
 "cells": [
  {
   "cell_type": "markdown",
   "metadata": {},
   "source": [
    "# COGS 118b - Determining Song Genre by Characteristics and Analysis of the Evolution of Genres from 2010-2019"
   ]
  },
  {
   "cell_type": "markdown",
   "metadata": {},
   "source": [
    "## Setup"
   ]
  },
  {
   "cell_type": "code",
   "execution_count": 1,
   "metadata": {},
   "outputs": [],
   "source": [
    "import string\n",
    "import matplotlib.pyplot as plt\n",
    "import numpy as np\n",
    "import pandas as pd\n",
    "import seaborn as sns"
   ]
  },
  {
   "cell_type": "markdown",
   "metadata": {},
   "source": [
    "## Exploring Data"
   ]
  },
  {
   "cell_type": "markdown",
   "metadata": {},
   "source": [
    "Data aquired from https://www.kaggle.com/leonardopena/top-spotify-songs-from-20102019-by-year"
   ]
  },
  {
   "cell_type": "code",
   "execution_count": 2,
   "metadata": {},
   "outputs": [
    {
     "data": {
      "text/html": [
       "<div>\n",
       "<style scoped>\n",
       "    .dataframe tbody tr th:only-of-type {\n",
       "        vertical-align: middle;\n",
       "    }\n",
       "\n",
       "    .dataframe tbody tr th {\n",
       "        vertical-align: top;\n",
       "    }\n",
       "\n",
       "    .dataframe thead th {\n",
       "        text-align: right;\n",
       "    }\n",
       "</style>\n",
       "<table border=\"1\" class=\"dataframe\">\n",
       "  <thead>\n",
       "    <tr style=\"text-align: right;\">\n",
       "      <th></th>\n",
       "      <th>title</th>\n",
       "      <th>artist</th>\n",
       "      <th>top genre</th>\n",
       "      <th>year</th>\n",
       "      <th>bpm</th>\n",
       "      <th>nrgy</th>\n",
       "      <th>dnce</th>\n",
       "      <th>dB</th>\n",
       "      <th>live</th>\n",
       "      <th>val</th>\n",
       "      <th>dur</th>\n",
       "      <th>acous</th>\n",
       "      <th>spch</th>\n",
       "      <th>pop</th>\n",
       "    </tr>\n",
       "  </thead>\n",
       "  <tbody>\n",
       "    <tr>\n",
       "      <th>0</th>\n",
       "      <td>Hey, Soul Sister</td>\n",
       "      <td>Train</td>\n",
       "      <td>neo mellow</td>\n",
       "      <td>2010</td>\n",
       "      <td>97</td>\n",
       "      <td>89</td>\n",
       "      <td>67</td>\n",
       "      <td>-4</td>\n",
       "      <td>8</td>\n",
       "      <td>80</td>\n",
       "      <td>217</td>\n",
       "      <td>19</td>\n",
       "      <td>4</td>\n",
       "      <td>83</td>\n",
       "    </tr>\n",
       "    <tr>\n",
       "      <th>1</th>\n",
       "      <td>Love The Way You Lie</td>\n",
       "      <td>Eminem</td>\n",
       "      <td>detroit hip hop</td>\n",
       "      <td>2010</td>\n",
       "      <td>87</td>\n",
       "      <td>93</td>\n",
       "      <td>75</td>\n",
       "      <td>-5</td>\n",
       "      <td>52</td>\n",
       "      <td>64</td>\n",
       "      <td>263</td>\n",
       "      <td>24</td>\n",
       "      <td>23</td>\n",
       "      <td>82</td>\n",
       "    </tr>\n",
       "    <tr>\n",
       "      <th>2</th>\n",
       "      <td>TiK ToK</td>\n",
       "      <td>Kesha</td>\n",
       "      <td>dance pop</td>\n",
       "      <td>2010</td>\n",
       "      <td>120</td>\n",
       "      <td>84</td>\n",
       "      <td>76</td>\n",
       "      <td>-3</td>\n",
       "      <td>29</td>\n",
       "      <td>71</td>\n",
       "      <td>200</td>\n",
       "      <td>10</td>\n",
       "      <td>14</td>\n",
       "      <td>80</td>\n",
       "    </tr>\n",
       "    <tr>\n",
       "      <th>3</th>\n",
       "      <td>Bad Romance</td>\n",
       "      <td>Lady Gaga</td>\n",
       "      <td>dance pop</td>\n",
       "      <td>2010</td>\n",
       "      <td>119</td>\n",
       "      <td>92</td>\n",
       "      <td>70</td>\n",
       "      <td>-4</td>\n",
       "      <td>8</td>\n",
       "      <td>71</td>\n",
       "      <td>295</td>\n",
       "      <td>0</td>\n",
       "      <td>4</td>\n",
       "      <td>79</td>\n",
       "    </tr>\n",
       "    <tr>\n",
       "      <th>4</th>\n",
       "      <td>Just the Way You Are</td>\n",
       "      <td>Bruno Mars</td>\n",
       "      <td>pop</td>\n",
       "      <td>2010</td>\n",
       "      <td>109</td>\n",
       "      <td>84</td>\n",
       "      <td>64</td>\n",
       "      <td>-5</td>\n",
       "      <td>9</td>\n",
       "      <td>43</td>\n",
       "      <td>221</td>\n",
       "      <td>2</td>\n",
       "      <td>4</td>\n",
       "      <td>78</td>\n",
       "    </tr>\n",
       "    <tr>\n",
       "      <th>...</th>\n",
       "      <td>...</td>\n",
       "      <td>...</td>\n",
       "      <td>...</td>\n",
       "      <td>...</td>\n",
       "      <td>...</td>\n",
       "      <td>...</td>\n",
       "      <td>...</td>\n",
       "      <td>...</td>\n",
       "      <td>...</td>\n",
       "      <td>...</td>\n",
       "      <td>...</td>\n",
       "      <td>...</td>\n",
       "      <td>...</td>\n",
       "      <td>...</td>\n",
       "    </tr>\n",
       "    <tr>\n",
       "      <th>598</th>\n",
       "      <td>Find U Again (feat. Camila Cabello)</td>\n",
       "      <td>Mark Ronson</td>\n",
       "      <td>dance pop</td>\n",
       "      <td>2019</td>\n",
       "      <td>104</td>\n",
       "      <td>66</td>\n",
       "      <td>61</td>\n",
       "      <td>-7</td>\n",
       "      <td>20</td>\n",
       "      <td>16</td>\n",
       "      <td>176</td>\n",
       "      <td>1</td>\n",
       "      <td>3</td>\n",
       "      <td>75</td>\n",
       "    </tr>\n",
       "    <tr>\n",
       "      <th>599</th>\n",
       "      <td>Cross Me (feat. Chance the Rapper &amp; PnB Rock)</td>\n",
       "      <td>Ed Sheeran</td>\n",
       "      <td>pop</td>\n",
       "      <td>2019</td>\n",
       "      <td>95</td>\n",
       "      <td>79</td>\n",
       "      <td>75</td>\n",
       "      <td>-6</td>\n",
       "      <td>7</td>\n",
       "      <td>61</td>\n",
       "      <td>206</td>\n",
       "      <td>21</td>\n",
       "      <td>12</td>\n",
       "      <td>75</td>\n",
       "    </tr>\n",
       "    <tr>\n",
       "      <th>600</th>\n",
       "      <td>No Brainer (feat. Justin Bieber, Chance the Ra...</td>\n",
       "      <td>DJ Khaled</td>\n",
       "      <td>dance pop</td>\n",
       "      <td>2019</td>\n",
       "      <td>136</td>\n",
       "      <td>76</td>\n",
       "      <td>53</td>\n",
       "      <td>-5</td>\n",
       "      <td>9</td>\n",
       "      <td>65</td>\n",
       "      <td>260</td>\n",
       "      <td>7</td>\n",
       "      <td>34</td>\n",
       "      <td>70</td>\n",
       "    </tr>\n",
       "    <tr>\n",
       "      <th>601</th>\n",
       "      <td>Nothing Breaks Like a Heart (feat. Miley Cyrus)</td>\n",
       "      <td>Mark Ronson</td>\n",
       "      <td>dance pop</td>\n",
       "      <td>2019</td>\n",
       "      <td>114</td>\n",
       "      <td>79</td>\n",
       "      <td>60</td>\n",
       "      <td>-6</td>\n",
       "      <td>42</td>\n",
       "      <td>24</td>\n",
       "      <td>217</td>\n",
       "      <td>1</td>\n",
       "      <td>7</td>\n",
       "      <td>69</td>\n",
       "    </tr>\n",
       "    <tr>\n",
       "      <th>602</th>\n",
       "      <td>Kills You Slowly</td>\n",
       "      <td>The Chainsmokers</td>\n",
       "      <td>electropop</td>\n",
       "      <td>2019</td>\n",
       "      <td>150</td>\n",
       "      <td>44</td>\n",
       "      <td>70</td>\n",
       "      <td>-9</td>\n",
       "      <td>13</td>\n",
       "      <td>23</td>\n",
       "      <td>213</td>\n",
       "      <td>6</td>\n",
       "      <td>6</td>\n",
       "      <td>67</td>\n",
       "    </tr>\n",
       "  </tbody>\n",
       "</table>\n",
       "<p>603 rows × 14 columns</p>\n",
       "</div>"
      ],
      "text/plain": [
       "                                                 title            artist  \\\n",
       "0                                     Hey, Soul Sister             Train   \n",
       "1                                 Love The Way You Lie            Eminem   \n",
       "2                                              TiK ToK             Kesha   \n",
       "3                                          Bad Romance         Lady Gaga   \n",
       "4                                 Just the Way You Are        Bruno Mars   \n",
       "..                                                 ...               ...   \n",
       "598                Find U Again (feat. Camila Cabello)       Mark Ronson   \n",
       "599      Cross Me (feat. Chance the Rapper & PnB Rock)        Ed Sheeran   \n",
       "600  No Brainer (feat. Justin Bieber, Chance the Ra...         DJ Khaled   \n",
       "601    Nothing Breaks Like a Heart (feat. Miley Cyrus)       Mark Ronson   \n",
       "602                                   Kills You Slowly  The Chainsmokers   \n",
       "\n",
       "           top genre  year  bpm  nrgy  dnce  dB  live  val  dur  acous  spch  \\\n",
       "0         neo mellow  2010   97    89    67  -4     8   80  217     19     4   \n",
       "1    detroit hip hop  2010   87    93    75  -5    52   64  263     24    23   \n",
       "2          dance pop  2010  120    84    76  -3    29   71  200     10    14   \n",
       "3          dance pop  2010  119    92    70  -4     8   71  295      0     4   \n",
       "4                pop  2010  109    84    64  -5     9   43  221      2     4   \n",
       "..               ...   ...  ...   ...   ...  ..   ...  ...  ...    ...   ...   \n",
       "598        dance pop  2019  104    66    61  -7    20   16  176      1     3   \n",
       "599              pop  2019   95    79    75  -6     7   61  206     21    12   \n",
       "600        dance pop  2019  136    76    53  -5     9   65  260      7    34   \n",
       "601        dance pop  2019  114    79    60  -6    42   24  217      1     7   \n",
       "602       electropop  2019  150    44    70  -9    13   23  213      6     6   \n",
       "\n",
       "     pop  \n",
       "0     83  \n",
       "1     82  \n",
       "2     80  \n",
       "3     79  \n",
       "4     78  \n",
       "..   ...  \n",
       "598   75  \n",
       "599   75  \n",
       "600   70  \n",
       "601   69  \n",
       "602   67  \n",
       "\n",
       "[603 rows x 14 columns]"
      ]
     },
     "execution_count": 2,
     "metadata": {},
     "output_type": "execute_result"
    }
   ],
   "source": [
    "top50s = pd.read_csv(\"top50s_2010-2019.csv\", encoding='cp1252')\n",
    "top50s"
   ]
  },
  {
   "cell_type": "code",
   "execution_count": 3,
   "metadata": {},
   "outputs": [
    {
     "data": {
      "text/plain": [
       "Index(['bpm', 'nrgy', 'dnce', 'dB', 'live', 'val', 'dur', 'acous', 'spch',\n",
       "       'pop'],\n",
       "      dtype='object')"
      ]
     },
     "execution_count": 3,
     "metadata": {},
     "output_type": "execute_result"
    }
   ],
   "source": [
    "characteristics_columns=top50s.columns[4:]\n",
    "characteristics_columns"
   ]
  },
  {
   "cell_type": "code",
   "execution_count": 4,
   "metadata": {},
   "outputs": [
    {
     "data": {
      "image/png": "[encoded data removed]",
      "text/plain": [
       "<Figure size 1152x576 with 10 Axes>"
      ]
     },
     "metadata": {
      "needs_background": "light"
     },
     "output_type": "display_data"
    }
   ],
   "source": [
    "fig, axes = plt.subplots(2, 5, figsize=(16, 8))\n",
    "top50s.hist(column=characteristics_columns, ax=axes);"
   ]
  },
  {
   "cell_type": "code",
   "execution_count": 5,
   "metadata": {},
   "outputs": [
    {
     "data": {
      "text/plain": [
       "array([[ 97,  87, 120, ..., 136, 114, 150],\n",
       "       [ 89,  93,  84, ...,  76,  79,  44],\n",
       "       [ 67,  75,  76, ...,  53,  60,  70],\n",
       "       ...,\n",
       "       [ 19,  24,  10, ...,   7,   1,   6],\n",
       "       [  4,  23,  14, ...,  34,   7,   6],\n",
       "       [ 83,  82,  80, ...,  70,  69,  67]], dtype=int64)"
      ]
     },
     "execution_count": 5,
     "metadata": {},
     "output_type": "execute_result"
    }
   ],
   "source": [
    "characteristics_matrix=top50s[characteristics_columns].to_numpy().transpose()\n",
    "c_matrix=characteristics_matrix # to shorten this name\n",
    "c_matrix"
   ]
  },
  {
   "cell_type": "markdown",
   "metadata": {},
   "source": [
    "In the above matrix, each column represents the characteristics for a song, to better match what we did in HW 4."
   ]
  },
  {
   "cell_type": "markdown",
   "metadata": {},
   "source": [
    "## PCA for Dimensionality Reduction"
   ]
  },
  {
   "cell_type": "markdown",
   "metadata": {},
   "source": [
    "### eigsort.m from HW 4"
   ]
  },
  {
   "cell_type": "code",
   "execution_count": 6,
   "metadata": {},
   "outputs": [],
   "source": [
    "# [Vsort,Dsort] = eigsort(V, eigvals)\n",
    "#\n",
    "# Sorts a matrix eigenvectors and a array of eigenvalues in order \n",
    "# of eigenvalue size, largest eigenvalue first and smallest eigenvalue\n",
    "# last.\n",
    "#\n",
    "# Example usage:\n",
    "# di, V = np.linarg.eig(L)\n",
    "# Vnew, Dnew = eigsort(V, di)\n",
    "#\n",
    "# Tim Marks 2002\n",
    "def eigsort(V, eigvals):\n",
    "    \n",
    "    # Sort the eigenvalues from largest to smallest. Store the sorted\n",
    "    # eigenvalues in the column vector lambd.\n",
    "    lohival = np.sort(eigvals)\n",
    "    lohiindex = np.argsort(eigvals)\n",
    "    lambd = np.flip(lohival)\n",
    "    index = np.flip(lohiindex)\n",
    "    Dsort = np.diag(lambd)\n",
    "    \n",
    "    # Sort eigenvectors to correspond to the ordered eigenvalues. Store sorted\n",
    "    # eigenvectors as columns of the matrix vsort.\n",
    "    M = np.size(lambd)\n",
    "    Vsort = np.zeros((M, M))\n",
    "    for i in range(M):\n",
    "        Vsort[:,i] = V[:,index[i]]\n",
    "    return Vsort, Dsort"
   ]
  },
  {
   "cell_type": "code",
   "execution_count": 7,
   "metadata": {},
   "outputs": [
    {
     "name": "stdout",
     "output_type": "stream",
     "text": [
      "[[118.54560531]\n",
      " [ 70.50414594]\n",
      " [ 64.37976783]\n",
      " [ -5.5787728 ]\n",
      " [ 17.77446103]\n",
      " [ 52.22553897]\n",
      " [224.67495854]\n",
      " [ 14.32669983]\n",
      " [  8.35820896]\n",
      " [ 66.52072968]]\n"
     ]
    }
   ],
   "source": [
    "mean_c=np.mean(c_matrix, axis=1, keepdims=True)\n",
    "print(mean_c)"
   ]
  },
  {
   "cell_type": "code",
   "execution_count": 8,
   "metadata": {},
   "outputs": [
    {
     "name": "stdout",
     "output_type": "stream",
     "text": [
      "[[-21.54560531 -31.54560531   1.45439469 ...  17.45439469  -4.54560531\n",
      "   31.45439469]\n",
      " [ 18.49585406  22.49585406  13.49585406 ...   5.49585406   8.49585406\n",
      "  -26.50414594]\n",
      " [  2.62023217  10.62023217  11.62023217 ... -11.37976783  -4.37976783\n",
      "    5.62023217]\n",
      " ...\n",
      " [  4.67330017   9.67330017  -4.32669983 ...  -7.32669983 -13.32669983\n",
      "   -8.32669983]\n",
      " [ -4.35820896  14.64179104   5.64179104 ...  25.64179104  -1.35820896\n",
      "   -2.35820896]\n",
      " [ 16.47927032  15.47927032  13.47927032 ...   3.47927032   2.47927032\n",
      "    0.47927032]]\n"
     ]
    }
   ],
   "source": [
    "c_diff=c_matrix-mean_c\n",
    "print(c_diff)"
   ]
  },
  {
   "cell_type": "code",
   "execution_count": 9,
   "metadata": {},
   "outputs": [
    {
     "name": "stdout",
     "output_type": "stream",
     "text": [
      "[[ 5.61672824e-02  5.33142004e-01  8.09306587e-01  2.07552396e-01\n",
      "  -2.67029915e-02  8.01066577e-02  6.17852756e-02 -5.69528805e-02\n",
      "   6.97006534e-03  1.76048839e-02]\n",
      " [ 1.55684423e-01  3.89062911e-01 -1.66982425e-01 -2.15488206e-01\n",
      "   1.83225847e-01 -3.19777591e-01 -5.91263449e-01 -5.01014146e-01\n",
      "   3.24587717e-02  1.12176127e-01]\n",
      " [ 1.24624528e-01  1.07227308e-01 -2.41653632e-01  1.85484674e-01\n",
      "  -2.24883574e-01  1.62026217e-01  5.46016200e-01 -7.03844929e-01\n",
      "  -9.00166421e-02  4.13582265e-02]\n",
      " [ 1.76489832e-02  3.86422956e-02 -6.06241296e-03  8.33417308e-03\n",
      "  -1.25456431e-02 -4.57869540e-02 -5.44828846e-02 -9.72930389e-02\n",
      "   2.76569464e-02 -9.91279986e-01]\n",
      " [-2.47631114e-02  1.16593077e-01 -2.87260538e-03 -6.91245756e-02\n",
      "   2.86604713e-01 -7.81033368e-01  5.16583446e-01  1.13228609e-01\n",
      "   9.57659281e-02 -8.44888458e-04]\n",
      " [ 3.18465036e-01  3.86180930e-01 -4.17109181e-01  6.57532000e-01\n",
      "   9.99701529e-02  4.30342205e-02 -6.70700227e-02  3.47663245e-01\n",
      "   7.67742487e-02 -2.74405266e-03]\n",
      " [-9.09035221e-01  3.37663704e-01 -1.94827257e-01  1.26171059e-01\n",
      "  -6.09211333e-02  2.62566552e-02 -3.13203648e-02 -1.01578940e-02\n",
      "   1.65098898e-02  1.96777900e-03]\n",
      " [-1.61428548e-01 -5.21391454e-01  2.14926821e-01  6.38796568e-01\n",
      "   2.26914233e-01 -2.30170386e-01 -2.15440742e-01 -3.08203472e-01\n",
      "   3.11061689e-02  3.15755963e-02]\n",
      " [-3.64636404e-03  3.87163636e-02 -7.29034539e-03  4.35205638e-02\n",
      "   7.43809045e-02 -1.01991834e-01 -3.15269054e-02  7.21196551e-02\n",
      "  -9.86746097e-01 -2.72517041e-02]\n",
      " [ 4.81055104e-02 -3.61150002e-02  2.26675683e-02  1.14070352e-01\n",
      "  -8.72991958e-01 -4.32482436e-01 -1.60441797e-01  8.30260107e-02\n",
      "  -7.51768883e-03  3.17534610e-02]]\n",
      "[[76905.04514512     0.             0.             0.\n",
      "      0.             0.             0.             0.\n",
      "      0.             0.        ]\n",
      " [    0.         42026.38008208     0.             0.\n",
      "      0.             0.             0.             0.\n",
      "      0.             0.        ]\n",
      " [    0.             0.         36305.12978473     0.\n",
      "      0.             0.             0.             0.\n",
      "      0.             0.        ]\n",
      " [    0.             0.             0.         21334.13529415\n",
      "      0.             0.             0.             0.\n",
      "      0.             0.        ]\n",
      " [    0.             0.             0.             0.\n",
      "  13105.08950488     0.             0.             0.\n",
      "      0.             0.        ]\n",
      " [    0.             0.             0.             0.\n",
      "      0.         10276.67829211     0.             0.\n",
      "      0.             0.        ]\n",
      " [    0.             0.             0.             0.\n",
      "      0.             0.          8116.62081318     0.\n",
      "      0.             0.        ]\n",
      " [    0.             0.             0.             0.\n",
      "      0.             0.             0.          5783.74884508\n",
      "      0.             0.        ]\n",
      " [    0.             0.             0.             0.\n",
      "      0.             0.             0.             0.\n",
      "   3129.34441516     0.        ]\n",
      " [    0.             0.             0.             0.\n",
      "      0.             0.             0.             0.\n",
      "      0.           281.82583345]]\n"
     ]
    }
   ],
   "source": [
    "cov_matrix=np.matmul(c_diff, c_diff.transpose())/10\n",
    "dold, vold = np.linalg.eig(cov_matrix)\n",
    "v, d = eigsort(vold, dold)\n",
    "print(v)\n",
    "print(d)"
   ]
  },
  {
   "cell_type": "code",
   "execution_count": 10,
   "metadata": {
    "scrolled": false
   },
   "outputs": [
    {
     "name": "stdout",
     "output_type": "stream",
     "text": [
      "0.7145065746457634\n",
      "0.8127011006121434\n"
     ]
    },
    {
     "data": {
      "image/png": "[encoded data removed]",
      "text/plain": [
       "<Figure size 432x288 with 1 Axes>"
      ]
     },
     "metadata": {
      "needs_background": "light"
     },
     "output_type": "display_data"
    }
   ],
   "source": [
    "index_values = np.arange(10)+1\n",
    "normalized_variability = d.diagonal()/sum(d.diagonal())\n",
    "plt.bar(index_values,normalized_variability)\n",
    "plt.title('Scree Plot');\n",
    "plt.xlabel('Principal Component');\n",
    "plt.ylabel('Eigenvalue');\n",
    "plt.xticks(index_values);\n",
    "print(normalized_variability[0]+normalized_variability[1]+normalized_variability[2])\n",
    "print(normalized_variability[0]+normalized_variability[1]+normalized_variability[2]+normalized_variability[3])"
   ]
  },
  {
   "cell_type": "markdown",
   "metadata": {},
   "source": [
    "From the Scree plot we can see that the first 3-4 components have the largest effect on the variability of the data, so we should focus on using those for further analysis. The first 3 make up 71.4% of the variability, while the first 4 make up 81.3% of the variability, above the recommended 80% threshold."
   ]
  },
  {
   "cell_type": "code",
   "execution_count": 11,
   "metadata": {},
   "outputs": [
    {
     "data": {
      "text/plain": [
       "array([[ 18.14204692, -29.74270781,  33.13420689, ..., -26.1415921 ,\n",
       "          0.17768663,   1.08015099],\n",
       "       [ -0.15457236,   9.53793493,   9.58664224, ...,  30.77142511,\n",
       "         -3.46482536,  -4.62404751],\n",
       "       [-29.82012067, -42.00953447,  -7.62162842, ...,   2.08650348,\n",
       "          6.36416157,  41.26154758],\n",
       "       ...,\n",
       "       [ -1.79650072, -10.06608105,  -4.36577808, ...,  11.69082655,\n",
       "         -3.65076935,  -0.28199849],\n",
       "       [  5.6494964 ,  -9.87851877,  -4.22039408, ..., -23.49190856,\n",
       "          1.55998434,  -2.07100098],\n",
       "       [  0.94539352,   2.24578471,  -0.50808695, ...,  -0.89836372,\n",
       "          0.8462441 ,   1.08227517]])"
      ]
     },
     "execution_count": 11,
     "metadata": {},
     "output_type": "execute_result"
    }
   ],
   "source": [
    "new_c_matrix = np.matmul(v.transpose(), c_diff)\n",
    "new_c_matrix"
   ]
  },
  {
   "cell_type": "code",
   "execution_count": 12,
   "metadata": {},
   "outputs": [
    {
     "data": {
      "text/plain": [
       "<mpl_toolkits.mplot3d.art3d.Path3DCollection at 0x2613aa1f130>"
      ]
     },
     "execution_count": 12,
     "metadata": {},
     "output_type": "execute_result"
    },
    {
     "data": {
      "image/png": "[encoded data removed]",
      "text/plain": [
       "<Figure size 432x288 with 1 Axes>"
      ]
     },
     "metadata": {
      "needs_background": "light"
     },
     "output_type": "display_data"
    }
   ],
   "source": [
    "fig = plt.figure()\n",
    "axes = fig.add_subplot(projection='3d')\n",
    "axes.scatter(new_c_matrix[0], new_c_matrix[1], new_c_matrix[2])"
   ]
  }
 ],
 "metadata": {
  "kernelspec": {
   "display_name": "Python 3",
   "language": "python",
   "name": "python3"
  },
  "language_info": {
   "codemirror_mode": {
    "name": "ipython",
    "version": 3
   },
   "file_extension": ".py",
   "mimetype": "text/x-python",
   "name": "python",
   "nbconvert_exporter": "python",
   "pygments_lexer": "ipython3",
   "version": "3.8.5"
  }
 },
 "nbformat": 4,
 "nbformat_minor": 4
}
